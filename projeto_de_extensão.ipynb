{
  "nbformat": 4,
  "nbformat_minor": 0,
  "metadata": {
    "colab": {
      "provenance": [],
      "authorship_tag": "ABX9TyN3EX+0t8BrZiFofQ+Pu7nb",
      "include_colab_link": true
    },
    "kernelspec": {
      "name": "python3",
      "display_name": "Python 3"
    },
    "language_info": {
      "name": "python"
    }
  },
  "cells": [
    {
      "cell_type": "markdown",
      "metadata": {
        "id": "view-in-github",
        "colab_type": "text"
      },
      "source": [
        "<a href=\"https://colab.research.google.com/github/ranpoluv/Recomendaco-de-Pacote-de-Internet/blob/main/projeto_de_extens%C3%A3o.ipynb\" target=\"_parent\"><img src=\"https://colab.research.google.com/assets/colab-badge.svg\" alt=\"Open In Colab\"/></a>"
      ]
    },
    {
      "cell_type": "code",
      "execution_count": 1,
      "metadata": {
        "id": "LEulaS2JvbSj"
      },
      "outputs": [],
      "source": [
        "!apt-get install openjdk-8-jdk-headless -qq > /dev/null"
      ]
    },
    {
      "cell_type": "code",
      "source": [
        "!pip install pyspark"
      ],
      "metadata": {
        "colab": {
          "base_uri": "https://localhost:8080/"
        },
        "id": "HtHM6Wx0wHff",
        "outputId": "38c76da3-8312-4bdc-d200-44c27e1a6999"
      },
      "execution_count": 2,
      "outputs": [
        {
          "output_type": "stream",
          "name": "stdout",
          "text": [
            "Collecting pyspark\n",
            "  Downloading pyspark-3.5.1.tar.gz (317.0 MB)\n",
            "\u001b[2K     \u001b[90m━━━━━━━━━━━━━━━━━━━━━━━━━━━━━━━━━━━━━━━━\u001b[0m \u001b[32m317.0/317.0 MB\u001b[0m \u001b[31m3.8 MB/s\u001b[0m eta \u001b[36m0:00:00\u001b[0m\n",
            "\u001b[?25h  Preparing metadata (setup.py) ... \u001b[?25l\u001b[?25hdone\n",
            "Requirement already satisfied: py4j==0.10.9.7 in /usr/local/lib/python3.10/dist-packages (from pyspark) (0.10.9.7)\n",
            "Building wheels for collected packages: pyspark\n",
            "  Building wheel for pyspark (setup.py) ... \u001b[?25l\u001b[?25hdone\n",
            "  Created wheel for pyspark: filename=pyspark-3.5.1-py2.py3-none-any.whl size=317488493 sha256=d0a5cd594bb09ed165b01cb3e50869f8c4aa0f2be8893499961fb1a4a7d1eef0\n",
            "  Stored in directory: /root/.cache/pip/wheels/80/1d/60/2c256ed38dddce2fdd93be545214a63e02fbd8d74fb0b7f3a6\n",
            "Successfully built pyspark\n",
            "Installing collected packages: pyspark\n",
            "Successfully installed pyspark-3.5.1\n"
          ]
        }
      ]
    },
    {
      "cell_type": "code",
      "source": [
        "from pyspark.sql import SparkSession\n",
        "from pyspark.ml.recommendation import ALS\n",
        "from pyspark.ml.evaluation import RegressionEvaluator\n",
        "import matplotlib.pyplot as plt"
      ],
      "metadata": {
        "id": "qatIZruvwf1C"
      },
      "execution_count": 4,
      "outputs": []
    },
    {
      "cell_type": "code",
      "source": [
        "spark = SparkSession.builder.appName(\"TelecomRecommender\").getOrCreate()"
      ],
      "metadata": {
        "id": "fMJERh6swjvq"
      },
      "execution_count": 5,
      "outputs": []
    },
    {
      "cell_type": "code",
      "source": [
        "import pandas as pd\n",
        "from pyspark.sql import SparkSession\n",
        "from pyspark.ml.recommendation import ALS\n",
        "from pyspark.ml.evaluation import RegressionEvaluator\n",
        "import matplotlib.pyplot as plt"
      ],
      "metadata": {
        "id": "N_GPeXU5xft_"
      },
      "execution_count": 6,
      "outputs": []
    },
    {
      "cell_type": "code",
      "source": [
        "# Importar a biblioteca Pandas para criar e manipular DataFrames\n",
        "import pandas as pd\n",
        "\n",
        "# Dados de clientes\n",
        "data_customers = {\n",
        "    'customerId': [1, 2, 3],  # IDs únicos dos clientes\n",
        "    'name': ['Maria', 'Leia', 'João'],  # Nomes dos clientes\n",
        "    'age': [25, 30, 35]  # Idades dos clientes\n",
        "}\n",
        "\n",
        "# Dados dos pacotes de internet\n",
        "data_packages = {\n",
        "    'packageId': [101, 102, 103],  # IDs únicos dos pacotes\n",
        "    'packageName': ['Basic', 'Standard', 'Premium'],  # Nomes dos pacotes\n",
        "    'price': [19.99, 29.99, 39.99]  # Preços dos pacotes\n",
        "}\n",
        "\n",
        "# Dados de uso (avaliações dos pacotes pelos clientes)\n",
        "data_usage = {\n",
        "    'customerId': [1, 1, 2, 3, 3],  # IDs dos clientes que avaliaram os pacotes\n",
        "    'packageId': [101, 102, 101, 103, 102],  # IDs dos pacotes avaliados\n",
        "    'rating': [5, 4, 3, 5, 4]  # Avaliações dadas pelos clientes (1 a 5)\n",
        "}\n",
        "\n",
        "# Criar DataFrames a partir dos dados\n",
        "df_customers = pd.DataFrame(data_customers)  # DataFrame para dados dos clientes\n",
        "df_packages = pd.DataFrame(data_packages)  # DataFrame para dados dos pacotes\n",
        "df_usage = pd.DataFrame(data_usage)  # DataFrame para dados de uso (avaliações)\n",
        "\n",
        "# Salvar os DataFrames em arquivos CSV\n",
        "df_customers.to_csv('/content/customers.csv', index=False)  # Salvar dados dos clientes\n",
        "df_packages.to_csv('/content/packages.csv', index=False)  # Salvar dados dos pacotes\n",
        "df_usage.to_csv('/content/usage.csv', index=False)  # Salvar dados de uso (avaliações)"
      ],
      "metadata": {
        "id": "QNVUi4AHyFtI"
      },
      "execution_count": 9,
      "outputs": []
    },
    {
      "cell_type": "code",
      "source": [
        "customers = spark.read.csv(\"/content/customers.csv\", header=True, inferSchema=True)\n",
        "packages = spark.read.csv(\"/content/packages.csv\", header=True, inferSchema=True)\n",
        "usage = spark.read.csv(\"/content/usage.csv\", header=True, inferSchema=True)\n",
        "\n",
        "customers.show()\n",
        "packages.show()\n",
        "usage.show()"
      ],
      "metadata": {
        "colab": {
          "base_uri": "https://localhost:8080/"
        },
        "id": "ZYtI8rk5zDL1",
        "outputId": "19a9a6db-2a29-4bdd-dd4b-f7f16a9ea802"
      },
      "execution_count": 10,
      "outputs": [
        {
          "output_type": "stream",
          "name": "stdout",
          "text": [
            "+----------+-----+---+\n",
            "|customerId| name|age|\n",
            "+----------+-----+---+\n",
            "|         1|Maria| 25|\n",
            "|         2| Leia| 30|\n",
            "|         3| João| 35|\n",
            "+----------+-----+---+\n",
            "\n",
            "+---------+-----------+-----+\n",
            "|packageId|packageName|price|\n",
            "+---------+-----------+-----+\n",
            "|      101|      Basic|19.99|\n",
            "|      102|   Standard|29.99|\n",
            "|      103|    Premium|39.99|\n",
            "+---------+-----------+-----+\n",
            "\n",
            "+----------+---------+------+\n",
            "|customerId|packageId|rating|\n",
            "+----------+---------+------+\n",
            "|         1|      101|     5|\n",
            "|         1|      102|     4|\n",
            "|         2|      101|     3|\n",
            "|         3|      103|     5|\n",
            "|         3|      102|     4|\n",
            "+----------+---------+------+\n",
            "\n"
          ]
        }
      ]
    },
    {
      "cell_type": "code",
      "source": [
        "# Verificar os dados\n",
        "usage.show()\n",
        "\n",
        "# Definir o modelo de recomendação ALS\n",
        "als = ALS(\n",
        "    maxIter=10,\n",
        "    regParam=0.01,\n",
        "    userCol=\"customerId\",\n",
        "    itemCol=\"packageId\",\n",
        "    ratingCol=\"rating\",\n",
        "    coldStartStrategy=\"drop\"\n",
        ")\n",
        "\n",
        "# Ajustar o modelo aos dados\n",
        "model = als.fit(usage)\n",
        "\n",
        "# Fazer previsões\n",
        "predictions = model.transform(usage)\n",
        "\n",
        "# Avaliar o modelo\n",
        "evaluator = RegressionEvaluator(\n",
        "    metricName=\"rmse\",\n",
        "    labelCol=\"rating\",\n",
        "    predictionCol=\"prediction\"\n",
        ")\n",
        "\n",
        "# Calcular o erro quadrático médio\n",
        "rmse = evaluator.evaluate(predictions)\n",
        "print(f\"Root-mean-square error = {rmse}\")"
      ],
      "metadata": {
        "colab": {
          "base_uri": "https://localhost:8080/"
        },
        "id": "WwDMqaVDzQTH",
        "outputId": "f9cd50c0-87ca-48bf-938e-38e6035cdec8"
      },
      "execution_count": null,
      "outputs": [
        {
          "output_type": "stream",
          "name": "stdout",
          "text": [
            "+----------+---------+------+\n",
            "|customerId|packageId|rating|\n",
            "+----------+---------+------+\n",
            "|         1|      101|     5|\n",
            "|         1|      102|     4|\n",
            "|         2|      101|     3|\n",
            "|         3|      103|     5|\n",
            "|         3|      102|     4|\n",
            "+----------+---------+------+\n",
            "\n",
            "Root-mean-square error = 0.003090001346851275\n"
          ]
        }
      ]
    },
    {
      "cell_type": "code",
      "source": [
        "# Salvar o modelo\n",
        "model.save(\"/content/als_model\")\n",
        "\n",
        "# Fazer o download do modelo\n",
        "from google.colab import files\n",
        "files.download('/content/als_model')"
      ],
      "metadata": {
        "colab": {
          "base_uri": "https://localhost:8080/",
          "height": 34
        },
        "id": "MAIrbIi_zfBO",
        "outputId": "e3a1ee99-0333-40d0-ec23-5d1a3ffd9abe"
      },
      "execution_count": null,
      "outputs": [
        {
          "output_type": "display_data",
          "data": {
            "text/plain": [
              "<IPython.core.display.Javascript object>"
            ],
            "application/javascript": [
              "\n",
              "    async function download(id, filename, size) {\n",
              "      if (!google.colab.kernel.accessAllowed) {\n",
              "        return;\n",
              "      }\n",
              "      const div = document.createElement('div');\n",
              "      const label = document.createElement('label');\n",
              "      label.textContent = `Downloading \"${filename}\": `;\n",
              "      div.appendChild(label);\n",
              "      const progress = document.createElement('progress');\n",
              "      progress.max = size;\n",
              "      div.appendChild(progress);\n",
              "      document.body.appendChild(div);\n",
              "\n",
              "      const buffers = [];\n",
              "      let downloaded = 0;\n",
              "\n",
              "      const channel = await google.colab.kernel.comms.open(id);\n",
              "      // Send a message to notify the kernel that we're ready.\n",
              "      channel.send({})\n",
              "\n",
              "      for await (const message of channel.messages) {\n",
              "        // Send a message to notify the kernel that we're ready.\n",
              "        channel.send({})\n",
              "        if (message.buffers) {\n",
              "          for (const buffer of message.buffers) {\n",
              "            buffers.push(buffer);\n",
              "            downloaded += buffer.byteLength;\n",
              "            progress.value = downloaded;\n",
              "          }\n",
              "        }\n",
              "      }\n",
              "      const blob = new Blob(buffers, {type: 'application/binary'});\n",
              "      const a = document.createElement('a');\n",
              "      a.href = window.URL.createObjectURL(blob);\n",
              "      a.download = filename;\n",
              "      div.appendChild(a);\n",
              "      a.click();\n",
              "      div.remove();\n",
              "    }\n",
              "  "
            ]
          },
          "metadata": {}
        },
        {
          "output_type": "display_data",
          "data": {
            "text/plain": [
              "<IPython.core.display.Javascript object>"
            ],
            "application/javascript": [
              "download(\"download_bc1ec6fc-0b98-4e48-8142-ae63f7938e00\", \"als_model\", 4096)"
            ]
          },
          "metadata": {}
        }
      ]
    }
  ]
}